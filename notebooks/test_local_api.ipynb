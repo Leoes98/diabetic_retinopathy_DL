{
 "cells": [
  {
   "cell_type": "code",
   "execution_count": 1,
   "metadata": {},
   "outputs": [],
   "source": [
    "import requests\n",
    "from PIL import Image"
   ]
  },
  {
   "cell_type": "code",
   "execution_count": 20,
   "metadata": {},
   "outputs": [
    {
     "data": {
      "text/plain": [
       "[[0, 4.0], [2, 56.0], [4, 196.0]]"
      ]
     },
     "execution_count": 20,
     "metadata": {},
     "output_type": "execute_result"
    }
   ],
   "source": [
    "url = \"http://127.0.0.1:8000/predict\"\n",
    "url = \"http://localhost:8080/predict\"\n",
    "image_path = \"/home/leoes98/code/Leoes98/diabetic_retinopathy_DL/diabetic_retinopathy_DL/data/\"\n",
    "imgs = [\"0_22_right\", \"1_3526_left\",\"2_1732_right\", \"3_11697_right\", \"4_8292_left\"]\n",
    "image_path = image_path + imgs[3] + \".jpeg\"\n",
    "\n",
    "image = Image.open(image_path)\n",
    "\n",
    "with open(image_path, 'rb') as f:\n",
    "    byte_im = f.read()\n",
    "\n",
    "params = {\"img_file\": byte_im}\n",
    "\n",
    "response = requests.get(url, files=params)\n",
    "\n",
    "response.json()"
   ]
  },
  {
   "cell_type": "code",
   "execution_count": null,
   "metadata": {},
   "outputs": [],
   "source": []
  }
 ],
 "metadata": {
  "interpreter": {
   "hash": "560892099490f6fa2385508165ea8bf0db323d531ae5aee841adce95fdbde22f"
  },
  "kernelspec": {
   "display_name": "Python 3.8.12 64-bit ('diabetic_retinopathy_DL': pyenv)",
   "language": "python",
   "name": "python3"
  },
  "language_info": {
   "codemirror_mode": {
    "name": "ipython",
    "version": 3
   },
   "file_extension": ".py",
   "mimetype": "text/x-python",
   "name": "python",
   "nbconvert_exporter": "python",
   "pygments_lexer": "ipython3",
   "version": "3.8.12"
  },
  "orig_nbformat": 4
 },
 "nbformat": 4,
 "nbformat_minor": 2
}
